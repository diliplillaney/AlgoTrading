{
 "cells": [
  {
   "cell_type": "code",
   "execution_count": 1,
   "metadata": {},
   "outputs": [
    {
     "name": "stdout",
     "output_type": "stream",
     "text": [
      "Hello World\n"
     ]
    }
   ],
   "source": [
    "print(\"Hello World\")"
   ]
  },
  {
   "cell_type": "code",
   "execution_count": 2,
   "metadata": {
    "scrolled": false
   },
   "outputs": [
    {
     "name": "stdout",
     "output_type": "stream",
     "text": [
      "Requirement already satisfied: nsetools in c:\\users\\leena\\anaconda3\\lib\\site-packages (1.0.11)\n",
      "Requirement already satisfied: dateutils in c:\\users\\leena\\anaconda3\\lib\\site-packages (from nsetools) (0.6.11)\n",
      "Requirement already satisfied: six in c:\\users\\leena\\anaconda3\\lib\\site-packages (from nsetools) (1.15.0)\n",
      "Note: you may need to restart the kernel to use updated packages.\n",
      "Requirement already satisfied: pytz in c:\\users\\leena\\anaconda3\\lib\\site-packages (from dateutils->nsetools) (2020.1)\n",
      "Requirement already satisfied: python-dateutil in c:\\users\\leena\\anaconda3\\lib\\site-packages (from dateutils->nsetools) (2.8.1)\n",
      "Requirement already satisfied: argparse in c:\\users\\leena\\anaconda3\\lib\\site-packages (from dateutils->nsetools) (1.4.0)\n"
     ]
    }
   ],
   "source": [
    "pip install nsetools"
   ]
  },
  {
   "cell_type": "code",
   "execution_count": 3,
   "metadata": {},
   "outputs": [],
   "source": [
    "from nsetools import Nse"
   ]
  },
  {
   "cell_type": "code",
   "execution_count": 4,
   "metadata": {},
   "outputs": [],
   "source": [
    "nse = Nse()"
   ]
  },
  {
   "cell_type": "code",
   "execution_count": 5,
   "metadata": {},
   "outputs": [],
   "source": [
    "q = nse.get_quote('infy') "
   ]
  },
  {
   "cell_type": "code",
   "execution_count": 6,
   "metadata": {},
   "outputs": [],
   "source": [
    "from pprint import pprint"
   ]
  },
  {
   "cell_type": "code",
   "execution_count": 8,
   "metadata": {},
   "outputs": [
    {
     "name": "stdout",
     "output_type": "stream",
     "text": [
      "{'adhocMargin': None,\n",
      " 'applicableMargin': 18.93,\n",
      " 'averagePrice': 1141.06,\n",
      " 'basePrice': 1132.1,\n",
      " 'bcEndDate': None,\n",
      " 'bcStartDate': None,\n",
      " 'buyPrice1': 1139.6,\n",
      " 'buyPrice2': 1139.55,\n",
      " 'buyPrice3': 1139.5,\n",
      " 'buyPrice4': 1139.45,\n",
      " 'buyPrice5': 1139.4,\n",
      " 'buyQuantity1': 65.0,\n",
      " 'buyQuantity2': 1.0,\n",
      " 'buyQuantity3': 123.0,\n",
      " 'buyQuantity4': 258.0,\n",
      " 'buyQuantity5': 374.0,\n",
      " 'change': 7.9,\n",
      " 'closePrice': 0.0,\n",
      " 'cm_adj_high_dt': '13-OCT-20',\n",
      " 'cm_adj_low_dt': '19-MAR-20',\n",
      " 'cm_ffm': 414697.27,\n",
      " 'companyName': 'Infosys Limited',\n",
      " 'css_status_desc': 'Listed',\n",
      " 'dayHigh': 1146.7,\n",
      " 'dayLow': 1135.55,\n",
      " 'deliveryQuantity': 6083892.0,\n",
      " 'deliveryToTradedQuantity': 41.57,\n",
      " 'exDate': '29-MAY-20',\n",
      " 'extremeLossMargin': 3.5,\n",
      " 'faceValue': 5.0,\n",
      " 'high52': 1146.7,\n",
      " 'indexVar': None,\n",
      " 'isExDateFlag': False,\n",
      " 'isinCode': 'INE009A01021',\n",
      " 'lastPrice': 1140.0,\n",
      " 'low52': 509.25,\n",
      " 'marketType': 'N',\n",
      " 'ndEndDate': None,\n",
      " 'ndStartDate': None,\n",
      " 'open': 1135.55,\n",
      " 'pChange': 0.7,\n",
      " 'previousClose': 1132.1,\n",
      " 'priceBand': 'No Band',\n",
      " 'pricebandlower': 1018.9,\n",
      " 'pricebandupper': 1245.3,\n",
      " 'purpose': 'DIVIDEND - RS 9.50 PER SHARE',\n",
      " 'quantityTraded': 14633780.0,\n",
      " 'recordDate': '01-JUN-20',\n",
      " 'secDate': '12-Oct-2020 00:00:00',\n",
      " 'securityVar': 15.43,\n",
      " 'sellPrice1': 1140.0,\n",
      " 'sellPrice2': 1140.05,\n",
      " 'sellPrice3': 1140.1,\n",
      " 'sellPrice4': 1140.15,\n",
      " 'sellPrice5': 1140.2,\n",
      " 'sellQuantity1': 1229.0,\n",
      " 'sellQuantity2': 441.0,\n",
      " 'sellQuantity3': 316.0,\n",
      " 'sellQuantity4': 281.0,\n",
      " 'sellQuantity5': 561.0,\n",
      " 'series': 'EQ',\n",
      " 'surv_indicator': None,\n",
      " 'symbol': 'INFY',\n",
      " 'totalBuyQuantity': 403075.0,\n",
      " 'totalSellQuantity': 443871.0,\n",
      " 'totalTradedValue': 18817.94,\n",
      " 'totalTradedVolume': 1649163.0,\n",
      " 'varMargin': 15.43}\n"
     ]
    }
   ],
   "source": [
    "pprint(q)"
   ]
  },
  {
   "cell_type": "code",
   "execution_count": null,
   "metadata": {},
   "outputs": [],
   "source": []
  }
 ],
 "metadata": {
  "kernelspec": {
   "display_name": "Python 3",
   "language": "python",
   "name": "python3"
  },
  "language_info": {
   "codemirror_mode": {
    "name": "ipython",
    "version": 3
   },
   "file_extension": ".py",
   "mimetype": "text/x-python",
   "name": "python",
   "nbconvert_exporter": "python",
   "pygments_lexer": "ipython3",
   "version": "3.8.3"
  }
 },
 "nbformat": 4,
 "nbformat_minor": 4
}
